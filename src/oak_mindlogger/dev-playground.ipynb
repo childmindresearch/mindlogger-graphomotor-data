{
    "cells": [
        {
            "cell_type": "code",
            "execution_count": null,
            "metadata": {},
            "outputs": [],
            "source": [
                "import pandas as pd\n",
                "\n",
                "pd.set_option(\"display.max_rows\", None)\n",
                "pd.set_option(\"display.max_columns\", None)"
            ]
        },
        {
            "cell_type": "code",
            "execution_count": null,
            "metadata": {},
            "outputs": [],
            "source": [
                "report = pd.read_csv(\n",
                "    \"data/oak-raw/report.csv\",\n",
                ")\n",
                "report[\"activity_end_time\"] = (\n",
                "    pd.to_datetime(report[\"activity_end_time\"], unit=\"ms\")\n",
                "    .dt.tz_localize(\"UTC\")\n",
                "    .dt.tz_convert(\"America/New_York\")\n",
                ")\n",
                "report[\"activity_start_time\"] = (\n",
                "    pd.to_datetime(report[\"activity_start_time\"], unit=\"ms\")\n",
                "    .dt.tz_localize(\"UTC\")\n",
                "    .dt.tz_convert(\"America/New_York\")\n",
                ")\n",
                "report"
            ]
        },
        {
            "cell_type": "code",
            "execution_count": 1,
            "metadata": {},
            "outputs": [],
            "source": [
                "import logging\n",
                "import sys\n",
                "from pathlib import Path\n",
                "\n",
                "from bidsi import BidsWriter, MergeStrategy\n",
                "\n",
                "from .oak_report import OakReport\n",
                "\n",
                "logging.basicConfig(level=logging.DEBUG, stream=sys.stdout)"
            ]
        },
        {
            "cell_type": "code",
            "execution_count": 2,
            "metadata": {},
            "outputs": [
                {
                    "data": {
                        "text/plain": [
                            "True"
                        ]
                    },
                    "execution_count": 2,
                    "metadata": {},
                    "output_type": "execute_result"
                }
            ],
            "source": [
                "data_path = Path(\"../../data\")\n",
                "raw_path = data_path / \"oak-raw\"\n",
                "bids_path = data_path / \"oak-bids\"\n",
                "\n",
                "report = OakReport.create(Path(\"../../data/oak-raw\"))\n",
                "bids = report.bids_model()\n",
                "writer = BidsWriter(bids_path, MergeStrategy.OVERWRITE, bids)\n",
                "writer.write()"
            ]
        }
    ],
    "metadata": {
        "kernelspec": {
            "display_name": ".venv",
            "language": "python",
            "name": "python3"
        },
        "language_info": {
            "codemirror_mode": {
                "name": "ipython",
                "version": 3
            },
            "file_extension": ".py",
            "mimetype": "text/x-python",
            "name": "python",
            "nbconvert_exporter": "python",
            "pygments_lexer": "ipython3",
            "version": "3.12.3"
        }
    },
    "nbformat": 4,
    "nbformat_minor": 2
}
